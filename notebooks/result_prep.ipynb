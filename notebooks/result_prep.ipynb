{
 "cells": [
  {
   "cell_type": "markdown",
   "metadata": {},
   "source": [
    "# Accuracies - SFT Performance"
   ]
  },
  {
   "cell_type": "code",
   "execution_count": 4,
   "metadata": {},
   "outputs": [],
   "source": [
    "import pandas as pd\n",
    "import os\n",
    "\n",
    "languages = ['english', 'german', 'french', 'italian', 'portuguese', 'hindi', 'spanish']\n",
    "accuracies = []\n",
    "accuracies_pretrained = []\n",
    "\n",
    "for language in languages:\n",
    "    path = f\"results/outputs_8b/{language}-{language}\"\n",
    "    df_test = pd.read_csv(os.path.join(path, 'test.csv'))\n",
    "    correct = 0\n",
    "    total = 0\n",
    "    df_test['answer'] = df_test['answer'].astype(str)\n",
    "    for i in range(len(df_test)):\n",
    "        df_test.loc[i, 'prediction'] = df_test.loc[i, 'prediction'].replace(df_test.loc[i, 'question'], '').replace(\"### Answer: \", '')\n",
    "\n",
    "        ref = df_test['answer'][i]#.split()\n",
    "        pred = df_test['prediction'][i]\n",
    "        # for ref in refs:\n",
    "        if ref.strip().lower() in pred.strip().lower():\n",
    "            correct += 1\n",
    "                # break\n",
    "        total += 1\n",
    "\n",
    "    accuracy = correct / total\n",
    "    accuracies.append(accuracy)\n",
    "\n",
    "for language in languages:\n",
    "    path = f\"results/outputs_8b/pretrained-{language}\"\n",
    "    df_test = pd.read_csv(os.path.join(path, 'test.csv'))\n",
    "    correct = 0\n",
    "    total = 0\n",
    "    df_test['answer'] = df_test['answer'].astype(str)\n",
    "    for i in range(len(df_test)):\n",
    "        df_test.loc[i, 'prediction'] = df_test.loc[i, 'prediction'].replace(df_test.loc[i, 'question'], '').replace(\"### Answer: \", '')\n",
    "\n",
    "        ref = df_test['answer'][i]#.split()\n",
    "        pred = df_test['prediction'][i]\n",
    "        # for ref in refs:\n",
    "        if ref.strip().lower() in pred.strip().lower():\n",
    "            correct += 1\n",
    "                # break\n",
    "        total += 1\n",
    "\n",
    "    accuracy = correct / total\n",
    "    accuracies_pretrained.append(accuracy)\n",
    "\n",
    "df = pd.DataFrame({'language': languages, 'accuracy': accuracies, 'accuracy_pretrained': accuracies_pretrained})\n",
    "# multiply each accuracy by 100 and round it to 2 decimal points\n",
    "df['accuracy'] = (df['accuracy'] * 100).round(2)\n",
    "df['accuracy_pretrained'] = (df['accuracy_pretrained'] * 100).round(2)\n",
    "df.to_csv('results/outputs_8b/accuracy.csv', index=False)\n",
    "        "
   ]
  },
  {
   "cell_type": "markdown",
   "metadata": {},
   "source": [
    "# Correct Overlap and Diff"
   ]
  },
  {
   "cell_type": "code",
   "execution_count": null,
   "metadata": {},
   "outputs": [],
   "source": [
    "import pandas as pd\n",
    "import os\n",
    "import numpy as np\n",
    "import seaborn as sns\n",
    "import matplotlib.pyplot as plt\n",
    "\n",
    "languages = [\"english\", \"french\",  \"german\", \"hindi\", \"italian\", \"portuguese\",  \"spanish\"]\n",
    "# languages = [\"english\", \"french\"]\n",
    "\n",
    "overlap = np.zeros((len(languages), len(languages)))\n",
    "diffs = np.zeros((len(languages), len(languages)))\n",
    "\n",
    "for language1 in languages:\n",
    "    for language2 in languages:\n",
    "        if language1 == language2:\n",
    "            overlap[languages.index(language1), languages.index(language2)] = np.nan\n",
    "            diffs[languages.index(language1), languages.index(language2)] = np.nan\n",
    "\n",
    "        else:\n",
    "            df1 = pd.read_csv(f'results/outputs/{language1}-{language1}/test.csv')\n",
    "            df2 = pd.read_csv(f'results/outputs/{language2}-{language2}/test.csv')\n",
    "\n",
    "            for i in range(len(df1)):\n",
    "                df1.loc[i, 'prediction'] = df1.loc[i, 'prediction'].replace(df1.loc[i, 'question'], '').replace(\"### Answer: \", '')\n",
    "                \n",
    "            for i in range(len(df2)):\n",
    "                df2.loc[i, 'prediction'] = df2.loc[i, 'prediction'].replace(df2.loc[i, 'question'], '').replace(\"### Answer: \", '')\n",
    "                \n",
    "            \n",
    "            df1['correct'] = 0\n",
    "            df2['correct'] = 0\n",
    "\n",
    "            for i in range(len(df1)):\n",
    "                refs = str(df1['answer'][i]).split()\n",
    "                pred = df1['prediction'][i]\n",
    "                for ref in refs:\n",
    "                    if ref.strip().lower() in pred.strip().lower():\n",
    "                        df1.loc[i, 'correct'] = 1\n",
    "                        break\n",
    "\n",
    "            for i in range(len(df2)):\n",
    "                refs = str(df2['answer'][i]).split()\n",
    "                pred = df2['prediction'][i]\n",
    "                for ref in refs:\n",
    "                    if ref.strip().lower() in pred.strip().lower():\n",
    "                        df2.loc[i, 'correct'] = 1\n",
    "                        break\n",
    "\n",
    "            # use id column to find rows that exist in both dataframes and create the dataframe with correct columns for both languages\n",
    "            common_ids = set(df1['id']).intersection(set(df2['id']))\n",
    "            df1 = df1[df1['id'].isin(common_ids)]\n",
    "            df2 = df2[df2['id'].isin(common_ids)]\n",
    "\n",
    "            both_correct, at_least_one_correct = 0, 0\n",
    "            only_lang1, only_lang2 = 0, 0\n",
    "\n",
    "            for id in common_ids:\n",
    "                correct1 = df1[df1['id'] == id]['correct'].values[0]\n",
    "                correct2 = df2[df2['id'] == id]['correct'].values[0]\n",
    "                if correct1 == 1 and correct2 == 1:\n",
    "                    both_correct += 1\n",
    "                if correct1 == 1 or correct2 == 1:\n",
    "                    at_least_one_correct += 1\n",
    "                if correct1 == 1 and correct2 == 0:\n",
    "                    only_lang1 += 1\n",
    "                if correct1 == 0 and correct2 == 1:\n",
    "                    only_lang2 += 1\n",
    "\n",
    "            overlap[languages.index(language1), languages.index(language2)] = both_correct / at_least_one_correct\n",
    "            diffs[languages.index(language1), languages.index(language2)] = only_lang1 / at_least_one_correct\n",
    "overlap = overlap * 100\n",
    "diffs = diffs * 100"
   ]
  },
  {
   "cell_type": "code",
   "execution_count": null,
   "metadata": {},
   "outputs": [],
   "source": [
    "plt.figure(figsize=(7, 5))\n",
    "sns.heatmap(diffs, annot=True, xticklabels=languages, fmt=\".2f\", yticklabels=languages, cmap=\"viridis\")\n",
    "\n",
    "plt.xlabel('Unknown Question for Language A')\n",
    "plt.ylabel('Known Question for Language B')\n",
    "\n",
    "plt.title('Differences between languages - Llama-1B')\n",
    "# plt.title('Overlap between languages')\n",
    "plt.savefig('results/outputs_1b/diffs.png', dpi=300, bbox_inches='tight')"
   ]
  },
  {
   "cell_type": "code",
   "execution_count": null,
   "metadata": {},
   "outputs": [],
   "source": [
    "# Create a mask for the upper triangle\n",
    "mask = np.triu(np.ones_like(overlap, dtype=bool))\n",
    "\n",
    "# Draw a heatmap with the mask\n",
    "plt.figure(figsize=(7, 5))\n",
    "sns.heatmap(overlap[1:, :6], annot=True, xticklabels=languages[:6], fmt=\".2f\", yticklabels=languages[1:], cmap=\"viridis\", mask=mask[1:, :6], vmin=32, vmax=67)\n",
    "\n",
    "plt.xlabel('Language A')\n",
    "plt.ylabel('Language B')\n",
    "plt.title('Overlap between languages - Llama-8B')\n",
    "# plt.title('Overlap between languages')\n",
    "plt.savefig('results/outputs_8b/overlap.png', dpi=300, bbox_inches='tight')"
   ]
  },
  {
   "cell_type": "markdown",
   "metadata": {},
   "source": [
    "# CoCa-CoLa Table"
   ]
  },
  {
   "cell_type": "code",
   "execution_count": 20,
   "metadata": {},
   "outputs": [],
   "source": [
    "import pandas as pd\n",
    "import os\n",
    "import numpy as np\n",
    "\n",
    "languages = [\"french\",  \"german\", \"hindi\", \"italian\", \"portuguese\",  \"spanish\"]\n",
    "\n",
    "results_pretrained = {}\n",
    "results_english_tuned = {}\n",
    "results_finetuned = {}\n",
    "\n",
    "for language in languages:\n",
    "    df = pd.read_csv(f'results/coca-cola-3b/{language}.csv')\n",
    "    results_pretrained[language] = {}\n",
    "    accuracy = df[(df['model'] == 'Pretrained') & (df['split'] != 'test_english')]['accuracy'].values[0] + df[(df['model'] == 'Pretrained') & (df['split'] == 'test_english')]['accuracy'].values[0]\n",
    "    cola_ratio = df[(df['model'] == 'Pretrained') & (df['split'] != 'test_english')]['accuracy'].values[0] / accuracy\n",
    "    results_pretrained[language]['cumulative_accuracy'] = accuracy\n",
    "    results_pretrained[language]['coca_cola_ratio'] = cola_ratio\n",
    "\n",
    "    results_english_tuned[language] = {}\n",
    "    accuracy = df[(df['model'] == 'english-tuned') & (df['split'] != 'test_english')]['accuracy'].values[0] + df[(df['model'] == 'english-tuned') & (df['split'] == 'test_english')]['accuracy'].values[0]\n",
    "    cola_ratio = df[(df['model'] == 'english-tuned') & (df['split'] != 'test_english')]['accuracy'].values[0] / accuracy\n",
    "    results_english_tuned[language]['cumulative_accuracy'] = accuracy\n",
    "    results_english_tuned[language]['coca_cola_ratio'] = cola_ratio\n",
    "\n",
    "    results_finetuned[language] = {}\n",
    "    accuracy = df[(df['model'] == 'Finetuned') & (df['split'] != 'test_english')]['accuracy'].values[0] + df[(df['model'] == 'Finetuned') & (df['split'] == 'test_english')]['accuracy'].values[0]\n",
    "    cola_ratio = df[(df['model'] == 'Finetuned') & (df['split'] != 'test_english')]['accuracy'].values[0] / accuracy\n",
    "    results_finetuned[language]['cumulative_accuracy'] = accuracy\n",
    "    results_finetuned[language]['coca_cola_ratio'] = cola_ratio\n"
   ]
  },
  {
   "cell_type": "code",
   "execution_count": 21,
   "metadata": {},
   "outputs": [
    {
     "data": {
      "text/plain": [
       "{'french': {'cumulative_accuracy': np.float64(0.2057049306559954),\n",
       "  'coca_cola_ratio': np.float64(0.5251140796197071)},\n",
       " 'german': {'cumulative_accuracy': np.float64(0.1699715641246028),\n",
       "  'coca_cola_ratio': np.float64(0.5652706616172867)},\n",
       " 'hindi': {'cumulative_accuracy': np.float64(0.157633645424343),\n",
       "  'coca_cola_ratio': np.float64(0.31925085021794325)},\n",
       " 'italian': {'cumulative_accuracy': np.float64(0.1662928165018773),\n",
       "  'coca_cola_ratio': np.float64(0.5667886054606229)},\n",
       " 'portuguese': {'cumulative_accuracy': np.float64(0.1760045044763754),\n",
       "  'coca_cola_ratio': np.float64(0.6336918792021713)},\n",
       " 'spanish': {'cumulative_accuracy': np.float64(0.1917030059887202),\n",
       "  'coca_cola_ratio': np.float64(0.6167541172545571)}}"
      ]
     },
     "execution_count": 21,
     "metadata": {},
     "output_type": "execute_result"
    }
   ],
   "source": [
    "results_pretrained"
   ]
  },
  {
   "cell_type": "code",
   "execution_count": 22,
   "metadata": {},
   "outputs": [
    {
     "data": {
      "text/plain": [
       "{'french': {'cumulative_accuracy': np.float64(0.6255330059062931),\n",
       "  'coca_cola_ratio': np.float64(0.14725679044959183)},\n",
       " 'german': {'cumulative_accuracy': np.float64(0.4930484372709564),\n",
       "  'coca_cola_ratio': np.float64(0.19642812084137395)},\n",
       " 'hindi': {'cumulative_accuracy': np.float64(0.3826059599315413),\n",
       "  'coca_cola_ratio': np.float64(0.10041640079727922)},\n",
       " 'italian': {'cumulative_accuracy': np.float64(0.5316684976579708),\n",
       "  'coca_cola_ratio': np.float64(0.162864714941002)},\n",
       " 'portuguese': {'cumulative_accuracy': np.float64(0.5551631831910593),\n",
       "  'coca_cola_ratio': np.float64(0.15990048986432648)},\n",
       " 'spanish': {'cumulative_accuracy': np.float64(0.5755218326646897),\n",
       "  'coca_cola_ratio': np.float64(0.15840943990948023)}}"
      ]
     },
     "execution_count": 22,
     "metadata": {},
     "output_type": "execute_result"
    }
   ],
   "source": [
    "results_english_tuned"
   ]
  },
  {
   "cell_type": "code",
   "execution_count": 23,
   "metadata": {},
   "outputs": [
    {
     "data": {
      "text/plain": [
       "{'french': {'cumulative_accuracy': np.float64(0.5297363207217705),\n",
       "  'coca_cola_ratio': np.float64(0.8944520241224033)},\n",
       " 'german': {'cumulative_accuracy': np.float64(0.5700638441387316),\n",
       "  'coca_cola_ratio': np.float64(0.8926006439008284)},\n",
       " 'hindi': {'cumulative_accuracy': np.float64(0.39672807812342686),\n",
       "  'coca_cola_ratio': np.float64(0.7747354530920902)},\n",
       " 'italian': {'cumulative_accuracy': np.float64(0.4602325085673996),\n",
       "  'coca_cola_ratio': np.float64(0.8791158677791949)},\n",
       " 'portuguese': {'cumulative_accuracy': np.float64(0.5064018101167542),\n",
       "  'coca_cola_ratio': np.float64(0.8510159034203246)},\n",
       " 'spanish': {'cumulative_accuracy': np.float64(0.603767660910518),\n",
       "  'coca_cola_ratio': np.float64(0.891835673426937)}}"
      ]
     },
     "execution_count": 23,
     "metadata": {},
     "output_type": "execute_result"
    }
   ],
   "source": [
    "results_finetuned"
   ]
  },
  {
   "cell_type": "markdown",
   "metadata": {},
   "source": [
    "# Visualization - Partial Training "
   ]
  },
  {
   "cell_type": "code",
   "execution_count": null,
   "metadata": {},
   "outputs": [],
   "source": [
    "import pandas as pd\n",
    "import matplotlib.pyplot as plt\n",
    "import matplotlib.colors as mcolors\n",
    "\n",
    "models = ['llama-1b', 'llama-3b', 'llama-8b']\n",
    "# languages = ['french', 'german', 'hindi']\n",
    "languages = ['italian', 'portuguese', 'spanish']\n",
    "\n",
    "fig, axs = plt.subplots(3, 3, figsize=(15, 8))\n",
    "\n",
    "for i, model in enumerate(models):\n",
    "    for j, language in enumerate(languages):\n",
    "        df = pd.read_csv(f'results/coca-coal-partial/{model}/english-{language}-full.csv')\n",
    "\n",
    "        if model == 'llama-1b':\n",
    "            vals = {'fully-english-trained': {}, f'partialy_{language}-tuned_0_5': {}, f'partialy_{language}-tuned_0_10': {}, f'partialy_{language}-tuned_10_16': {}, f'fully-{language}-trained': {}}\n",
    "        elif model == 'llama-3b':\n",
    "            vals = {'fully-english-trained': {}, f'partialy_{language}-tuned_0_14': {}, f'partialy_{language}-tuned_14_27': {}, f'fully-{language}-trained': {}}\n",
    "        else:\n",
    "            vals = {'fully-english-trained': {}, f'partialy_{language}-tuned_0_15': {}, f'partialy_{language}-tuned_15_31': {}, f'fully-{language}-trained': {}}\n",
    "\n",
    "        for key in vals.keys():\n",
    "            vals[key]['accuracy'] = df[(df['model'] == key) & (df['split'] != 'test_english')]['accuracy'].values[0] + df[(df['model'] == key) & (df['split'] == 'test_english')]['accuracy'].values[0]\n",
    "            vals[key]['ratio'] = df[(df['model'] == key) & (df['split'] != 'test_english')]['accuracy'].values[0] \n",
    "\n",
    "        ax = axs[i, j]\n",
    "        if model == 'llama-1b':\n",
    "            labels = ['SFT$_{en}$', '1-5', '1-10', '11-16', 'SFT$_{' + f'{language[:2]}' + '}$']\n",
    "        elif model == 'llama-3b':\n",
    "            labels = ['SFT$_{en}$', '1-14', '14-27', 'SFT$_{' + f'{language[:2]}' + '}$']\n",
    "        else:\n",
    "            labels = ['SFT$_{en}$', '1-15', '16-31', 'SFT$_{' + f'{language[:2]}' + '}$']\n",
    "\n",
    "        # Create accuracy bars with colored, thicker, and transparent background\n",
    "        accuracy_bars = ax.bar(vals.keys(), [vals[key]['accuracy'] for key in vals.keys()], color='aliceblue', edgecolor='xkcd:marine blue', label='Cum. Acc.', hatch='//', alpha=0.4)\n",
    "        # Create ratio bars\n",
    "        ratio_bars = ax.bar(vals.keys(), [vals[key]['ratio'] for key in vals.keys()], color='xkcd:marine blue', label=f'{language} Acc.', alpha=0.85)\n",
    "\n",
    "        # Rotate bar labels\n",
    "        ax.set_xticklabels(labels, fontsize=12)\n",
    "\n",
    "        # Set y-axis range to 0 to 0.6\n",
    "        ax.set_ylim(0, 0.7)\n",
    "\n",
    "        ax.set_title(f\"{language}\", fontsize=12)\n",
    "        ax.legend(loc='upper left', fontsize=10)\n",
    "\n",
    "    # Add model name on the left side of each row\n",
    "    fig.text(0.09, 0.83 - i * 0.33, model, va='center', ha='center', rotation='vertical', fontsize=14)\n",
    "\n",
    "plt.tight_layout(rect=[0.1, 0, 1, 1])\n",
    "plt.savefig('results/appendix_bar_plot.png', dpi=300, bbox_inches='tight')"
   ]
  }
 ],
 "metadata": {
  "kernelspec": {
   "display_name": "venv",
   "language": "python",
   "name": "python3"
  },
  "language_info": {
   "codemirror_mode": {
    "name": "ipython",
    "version": 3
   },
   "file_extension": ".py",
   "mimetype": "text/x-python",
   "name": "python",
   "nbconvert_exporter": "python",
   "pygments_lexer": "ipython3",
   "version": "3.10.12"
  }
 },
 "nbformat": 4,
 "nbformat_minor": 2
}
